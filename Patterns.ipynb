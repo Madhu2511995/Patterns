{
  "cells": [
    {
      "cell_type": "markdown",
      "metadata": {
        "id": "XzoDtJHCIXz4"
      },
      "source": [
        "# **Patterns**"
      ]
    },
    {
      "cell_type": "code",
      "execution_count": null,
      "metadata": {
        "colab": {
          "background_save": true
        },
        "id": "2sJFv1b1g9lg",
        "outputId": "5f2d34a0-99a5-4eb6-8015-e4c2210fb56a"
      },
      "outputs": [
        {
          "data": {
            "text/plain": [
              "120"
            ]
          },
          "execution_count": 143,
          "metadata": {},
          "output_type": "execute_result"
        }
      ],
      "source": [
        "def fact(n):\n",
        "  if n==0:\n",
        "    return 1\n",
        "  return n*fact(n-1)\n",
        "fact(5)"
      ]
    },
    {
      "cell_type": "code",
      "execution_count": null,
      "metadata": {
        "colab": {
          "base_uri": "https://localhost:8080/"
        },
        "id": "6eS7qlCEIcXC",
        "outputId": "6cb86639-7c25-46d2-c44f-0360e080e061"
      },
      "outputs": [
        {
          "name": "stdout",
          "output_type": "stream",
          "text": [
            "****\n",
            "****\n",
            "****\n",
            "****\n"
          ]
        }
      ],
      "source": [
        "for i in range(4):\n",
        "  for j in range(4):\n",
        "    print(\"*\",end='')\n",
        "  print()"
      ]
    },
    {
      "cell_type": "code",
      "execution_count": null,
      "metadata": {
        "colab": {
          "base_uri": "https://localhost:8080/"
        },
        "id": "P8mSV21lIcZ_",
        "outputId": "012ae468-9c22-46be-c929-4b04edaca2e4"
      },
      "outputs": [
        {
          "name": "stdout",
          "output_type": "stream",
          "text": [
            "*\n",
            "**\n",
            "***\n",
            "****\n"
          ]
        }
      ],
      "source": [
        "for i in range(4):\n",
        "  for j in range(0,i+1):\n",
        "    print(\"*\",end='')\n",
        "  print()"
      ]
    },
    {
      "cell_type": "code",
      "execution_count": null,
      "metadata": {
        "colab": {
          "base_uri": "https://localhost:8080/"
        },
        "id": "OgeYzGjiY6bM",
        "outputId": "e380960f-1c9b-4c02-d2f0-bc8e1e31d9d5"
      },
      "outputs": [
        {
          "name": "stdout",
          "output_type": "stream",
          "text": [
            "\n",
            "*\n",
            "**\n",
            "***\n"
          ]
        }
      ],
      "source": [
        "for i in  range(4):\n",
        "  print(i*('*'),end='')\n",
        "  print()"
      ]
    },
    {
      "cell_type": "code",
      "execution_count": null,
      "metadata": {
        "colab": {
          "base_uri": "https://localhost:8080/"
        },
        "id": "TQCYgKi8Iccn",
        "outputId": "e23b7033-eb0b-4d46-8258-1bfde514f104"
      },
      "outputs": [
        {
          "name": "stdout",
          "output_type": "stream",
          "text": [
            "1\n",
            "12\n",
            "123\n"
          ]
        }
      ],
      "source": [
        "for i in range(1,4):\n",
        "  for j in range(1,i+1):\n",
        "    print(j,end='')\n",
        "  print()"
      ]
    },
    {
      "cell_type": "code",
      "execution_count": null,
      "metadata": {
        "colab": {
          "base_uri": "https://localhost:8080/"
        },
        "id": "ynJbV55LIcf8",
        "outputId": "cd96b728-6af2-4fb2-bc82-6bc6c3239078"
      },
      "outputs": [
        {
          "name": "stdout",
          "output_type": "stream",
          "text": [
            "1\n",
            "22\n",
            "333\n",
            "4444\n"
          ]
        }
      ],
      "source": [
        "for i in range(1,5):\n",
        "  for j in range(1,i+1):\n",
        "    print(i,end='')\n",
        "  print()"
      ]
    },
    {
      "cell_type": "code",
      "execution_count": null,
      "metadata": {
        "colab": {
          "base_uri": "https://localhost:8080/"
        },
        "id": "IrvX69oFIcik",
        "outputId": "78aa464a-57ef-44cd-fe3a-525ef8db9083"
      },
      "outputs": [
        {
          "name": "stdout",
          "output_type": "stream",
          "text": [
            "****\n",
            "***\n",
            "**\n",
            "*\n"
          ]
        }
      ],
      "source": [
        "for i in range(4):\n",
        "  for j in range(4-i):\n",
        "    print(\"*\",end='')\n",
        "  print()"
      ]
    },
    {
      "cell_type": "code",
      "execution_count": null,
      "metadata": {
        "colab": {
          "base_uri": "https://localhost:8080/"
        },
        "id": "c5jfH3gmXZUY",
        "outputId": "36325331-44d7-4c34-f461-bfce7f227a03"
      },
      "outputs": [
        {
          "name": "stdout",
          "output_type": "stream",
          "text": [
            "****\n",
            "***\n",
            "**\n",
            "*\n"
          ]
        }
      ],
      "source": [
        "for i in range(4):\n",
        "  print((4-i)*'*',end='')\n",
        "  print()"
      ]
    },
    {
      "cell_type": "code",
      "execution_count": null,
      "metadata": {
        "colab": {
          "base_uri": "https://localhost:8080/"
        },
        "id": "cR68Mqn1Icli",
        "outputId": "0789c1c1-7be2-4e70-fe71-5e65ae52562b"
      },
      "outputs": [
        {
          "name": "stdout",
          "output_type": "stream",
          "text": [
            "*****\n",
            "****\n",
            "***\n",
            "**\n",
            "*\n"
          ]
        }
      ],
      "source": [
        "def Print(n):\n",
        "  for i in range(n):\n",
        "    for j in range(n-i):\n",
        "      print(\"*\",end='')\n",
        "    print()\n",
        "Print(5)"
      ]
    },
    {
      "cell_type": "code",
      "execution_count": null,
      "metadata": {
        "colab": {
          "base_uri": "https://localhost:8080/"
        },
        "id": "usXaO12nIcoV",
        "outputId": "da843153-5699-422f-8157-2fffd6cb810c"
      },
      "outputs": [
        {
          "name": "stdout",
          "output_type": "stream",
          "text": [
            "1234\n",
            "123\n",
            "12\n",
            "1\n",
            "\n"
          ]
        }
      ],
      "source": [
        "for i in range(5):\n",
        "    for j in range(1,5-i):\n",
        "      print(j,end='')\n",
        "    print()"
      ]
    },
    {
      "cell_type": "code",
      "execution_count": null,
      "metadata": {
        "colab": {
          "base_uri": "https://localhost:8080/"
        },
        "id": "XZ6JZkYIIcx-",
        "outputId": "37a5d3c6-4073-48f6-fbd7-82030f8f28bb"
      },
      "outputs": [
        {
          "name": "stdout",
          "output_type": "stream",
          "text": [
            "    *    \n",
            "   ***   \n",
            "  *****  \n",
            " ******* \n",
            "*********\n"
          ]
        }
      ],
      "source": [
        "for i in range(5):\n",
        "  for j in range(5-i-1):\n",
        "    print(\" \",end='')\n",
        "  for k in range(2*i+1):\n",
        "    print('*',end='')\n",
        "  for l in range(5-i-1):\n",
        "    print(\" \",end='')\n",
        "  print()\n"
      ]
    },
    {
      "cell_type": "code",
      "execution_count": null,
      "metadata": {
        "colab": {
          "base_uri": "https://localhost:8080/"
        },
        "id": "FGgAPk05XHyc",
        "outputId": "4f37002f-69ad-47e9-f5a0-5dd2f41ffa95"
      },
      "outputs": [
        {
          "name": "stdout",
          "output_type": "stream",
          "text": [
            "     *\n",
            "    ***\n",
            "   *****\n",
            "  *******\n",
            " *********\n"
          ]
        }
      ],
      "source": [
        "for i in range(5):\n",
        "    print((5-i-1)*\" \",(2*i+1)*\"*\",end='')\n",
        "    print()"
      ]
    },
    {
      "cell_type": "code",
      "execution_count": null,
      "metadata": {
        "colab": {
          "base_uri": "https://localhost:8080/"
        },
        "id": "AcPby4g_n2Pn",
        "outputId": "9bfd7ca1-3111-4b94-e825-dbab7de92feb"
      },
      "outputs": [
        {
          "name": "stdout",
          "output_type": "stream",
          "text": [
            "5\n",
            "*********\n",
            " ******* \n",
            "  *****  \n",
            "   ***   \n",
            "    *    \n"
          ]
        }
      ],
      "source": [
        "n=int(input())\n",
        "for i in range(n):\n",
        "  for j in range(i):\n",
        "    print(' ',end='')\n",
        "  for k in range(2*(n-i)-1):\n",
        "    print('*',end='')\n",
        "  for l in range(i):\n",
        "    print(\" \",end='')\n",
        "  print()\n",
        "\n"
      ]
    },
    {
      "cell_type": "code",
      "execution_count": null,
      "metadata": {
        "colab": {
          "base_uri": "https://localhost:8080/"
        },
        "id": "85KAPkwsXH1n",
        "outputId": "d73468ec-6994-4431-c5b4-78172051f4ba"
      },
      "outputs": [
        {
          "name": "stdout",
          "output_type": "stream",
          "text": [
            " ******* \n",
            "  *****  \n",
            "   ***   \n",
            "    *    \n"
          ]
        }
      ],
      "source": [
        "for i in range(4):\n",
        "  print(i*(' '),(2*(4-i)-1)*(\"*\"),i*(' '),end='')\n",
        "  print()"
      ]
    },
    {
      "cell_type": "code",
      "execution_count": null,
      "metadata": {
        "colab": {
          "base_uri": "https://localhost:8080/"
        },
        "id": "8xL7dgvgXH4l",
        "outputId": "39790ade-23f5-4fa7-bcd1-4843db844301"
      },
      "outputs": [
        {
          "name": "stdout",
          "output_type": "stream",
          "text": [
            "5\n",
            "     *     \n",
            "    ***    \n",
            "   *****   \n",
            "  *******  \n",
            " ********* \n",
            "  *******  \n",
            "   *****   \n",
            "    ***    \n",
            "     *     \n"
          ]
        }
      ],
      "source": [
        "n=int(input())\n",
        "for i in range(n):\n",
        "  print((n-i-1)*(\" \"),(2*i+1)*(\"*\"),(n-i-1)*(\" \"),end='')\n",
        "  print()\n",
        "for j in range(1,n):\n",
        "  print(j*(\" \"),((2*(n-j)-1))*(\"*\"),j*(\" \"),end='')\n",
        "  print()"
      ]
    },
    {
      "cell_type": "code",
      "execution_count": null,
      "metadata": {
        "colab": {
          "base_uri": "https://localhost:8080/"
        },
        "id": "UMpQR0BMXH7L",
        "outputId": "40dbc301-ad6a-4c7d-8804-6462764ef2c0"
      },
      "outputs": [
        {
          "name": "stdout",
          "output_type": "stream",
          "text": [
            "5\n",
            "*\n",
            "**\n",
            "***\n",
            "****\n",
            "*****\n",
            "****\n",
            "***\n",
            "**\n",
            "*\n",
            "\n"
          ]
        }
      ],
      "source": [
        "n=int(input())\n",
        "for i in range(1,n+1):\n",
        "  print(i*('*'),end='')\n",
        "  print()\n",
        "for j in range(1,n+1):\n",
        "  print((n-j)*('*'),end='')\n",
        "  print()"
      ]
    },
    {
      "cell_type": "code",
      "execution_count": null,
      "metadata": {
        "colab": {
          "base_uri": "https://localhost:8080/"
        },
        "id": "_fwAy-m0XH-W",
        "outputId": "649ace57-84ea-4c1a-b96f-b59c23efa48d"
      },
      "outputs": [
        {
          "name": "stdout",
          "output_type": "stream",
          "text": [
            "5\n",
            "*\n",
            "**\n",
            "***\n",
            "****\n",
            "*****\n",
            "****\n",
            "***\n",
            "**\n",
            "*\n",
            "\n"
          ]
        }
      ],
      "source": [
        "n=int(input())\n",
        "for i in range(1,2*n+1):\n",
        "  if i<=n:\n",
        "    print(i*('*'),end='')\n",
        "    print()\n",
        "  else:\n",
        "    print((2*n-i)*('*'),end='')\n",
        "    print()\n",
        "\n"
      ]
    },
    {
      "cell_type": "code",
      "execution_count": null,
      "metadata": {
        "colab": {
          "base_uri": "https://localhost:8080/"
        },
        "id": "Pztony-DXIEQ",
        "outputId": "c87c3815-aaa8-4e4c-f342-3c0e2ada90e7"
      },
      "outputs": [
        {
          "name": "stdout",
          "output_type": "stream",
          "text": [
            "5\n",
            "1 \n",
            "0 1 \n",
            "1 0 1 \n",
            "0 1 0 1 \n",
            "1 0 1 0 1 \n"
          ]
        }
      ],
      "source": [
        "n=int(input())\n",
        "start=1\n",
        "for i in range(n):\n",
        "  if i%2==0:\n",
        "    start=start\n",
        "  else:\n",
        "    start=1-start\n",
        "  for j in range(i+1):\n",
        "    print(start, end=' ')\n",
        "    start = 1 if start==0 else 0\n",
        "  start = 1\n",
        "  print()\n"
      ]
    },
    {
      "cell_type": "code",
      "execution_count": null,
      "metadata": {
        "colab": {
          "base_uri": "https://localhost:8080/"
        },
        "id": "SgeGkKcQXIHK",
        "outputId": "aac69235-f0c3-46e0-93e5-d588e98c4c6a"
      },
      "outputs": [
        {
          "name": "stdout",
          "output_type": "stream",
          "text": [
            "5\n",
            "1\n",
            "01\n",
            "101\n",
            "0101\n",
            "10101\n"
          ]
        }
      ],
      "source": [
        "\n",
        "n=int(input())\n",
        "start=1\n",
        "for i in range(n):\n",
        "  if i%2==0:\n",
        "    start=start\n",
        "  else:\n",
        "    start=1-start\n",
        "  for j in range(i+1):\n",
        "    print(start,end='')\n",
        "    start=1-start\n",
        "  start=1\n",
        "\n",
        "  print()\n"
      ]
    },
    {
      "cell_type": "code",
      "execution_count": null,
      "metadata": {
        "colab": {
          "base_uri": "https://localhost:8080/"
        },
        "id": "SjLBwWY4XIKB",
        "outputId": "c66696fe-36f2-4621-85e1-b76aa0336a2e"
      },
      "outputs": [
        {
          "name": "stdout",
          "output_type": "stream",
          "text": [
            "5\n",
            "1        1\n",
            "12      21\n",
            "123    321\n",
            "1234  4321\n",
            "1234554321\n"
          ]
        }
      ],
      "source": [
        "n=int(input())\n",
        "for i in range(1,n+1):\n",
        "  for j in range(1,i+1):\n",
        "    print(j,end='')\n",
        "  for k in range(i,i+1):\n",
        "    print(2*(n-i)*(' '),end='')\n",
        "  for l in range(0,i):\n",
        "    print(i-l,end='')\n",
        "  print()"
      ]
    },
    {
      "cell_type": "code",
      "execution_count": null,
      "metadata": {
        "id": "JVlEjNlXs3YT"
      },
      "outputs": [],
      "source": [
        "n=int(input())\n",
        "for i in range(1,n+1):\n",
        "  for j in range(1,i+1):\n",
        "    print(j,end='')\n",
        "  for k in range(i,i+1):\n",
        "    print(2*(n-i)*(' '),end='')\n",
        " # Use negative index in range function\n",
        "  for j in range(i,0,-1):\n",
        "    print(j,end='')\n",
        "  print()"
      ]
    },
    {
      "cell_type": "code",
      "execution_count": null,
      "metadata": {
        "colab": {
          "base_uri": "https://localhost:8080/"
        },
        "id": "iScEYXOJXIM8",
        "outputId": "134404e8-defd-4fd6-9d98-63ad44e4edad"
      },
      "outputs": [
        {
          "name": "stdout",
          "output_type": "stream",
          "text": [
            "5\n",
            "1        1\n",
            "12      12\n",
            "123    123\n",
            "1234  1234\n",
            "1234512345\n"
          ]
        }
      ],
      "source": [
        "n=int(input())\n",
        "for i in range(1,n+1):\n",
        "  for j in range(1,i+1):\n",
        "    print(j,end='')\n",
        "  for k in range(i,i+1):\n",
        "    print(2*(n-i)*(' '),end='')\n",
        "  for l in range(1,i+1):\n",
        "    print(l,end='')\n",
        "  print()"
      ]
    },
    {
      "cell_type": "code",
      "execution_count": null,
      "metadata": {
        "colab": {
          "base_uri": "https://localhost:8080/"
        },
        "id": "jDdfTT6bXITy",
        "outputId": "e839d208-3877-4c56-a334-e8470343f72c"
      },
      "outputs": [
        {
          "name": "stdout",
          "output_type": "stream",
          "text": [
            "4\n",
            "1\n",
            "23\n",
            "345\n",
            "4567\n"
          ]
        }
      ],
      "source": [
        "n=int(input())\n",
        "for i in range(1,n+1):\n",
        "  for j in range(i,2*i):\n",
        "    print(j,end='')\n",
        "  print()"
      ]
    },
    {
      "cell_type": "code",
      "execution_count": null,
      "metadata": {
        "colab": {
          "base_uri": "https://localhost:8080/"
        },
        "id": "TF7mdqTptImC",
        "outputId": "72dfc937-8355-4d81-b449-52221d0efeee"
      },
      "outputs": [
        {
          "name": "stdout",
          "output_type": "stream",
          "text": [
            "4\n",
            "1 \n",
            "2 3 \n",
            "4 5 6 \n",
            "7 8 9 10 \n"
          ]
        }
      ],
      "source": [
        "n=int(input())\n",
        "num=1\n",
        "for i in range(1,n+1):\n",
        "  for j in range(i):\n",
        "    print(num,end=' ')\n",
        "    num=num+1\n",
        "  print()"
      ]
    },
    {
      "cell_type": "code",
      "execution_count": null,
      "metadata": {
        "colab": {
          "base_uri": "https://localhost:8080/"
        },
        "id": "yZFoyNystIws",
        "outputId": "432d26ea-1cca-4f81-c252-8e13c7d0645d"
      },
      "outputs": [
        {
          "name": "stdout",
          "output_type": "stream",
          "text": [
            "4\n",
            "A\n",
            "B\n",
            "C\n",
            "D\n"
          ]
        }
      ],
      "source": [
        "n=int(input())\n",
        "for i in range(97,97+n):\n",
        "  print(chr(i).upper())"
      ]
    },
    {
      "cell_type": "code",
      "execution_count": null,
      "metadata": {
        "colab": {
          "base_uri": "https://localhost:8080/"
        },
        "id": "VuC4iL32tIzz",
        "outputId": "c1b6a531-b2b6-4d3d-8c63-65f03aa7f4f1"
      },
      "outputs": [
        {
          "name": "stdout",
          "output_type": "stream",
          "text": [
            "5\n",
            "A\n",
            "AB\n",
            "ABC\n",
            "ABCD\n",
            "ABCDE\n"
          ]
        }
      ],
      "source": [
        "n=int(input())\n",
        "for i in range(n):\n",
        "  for j in range(i+1):\n",
        "    print(chr(97+j).upper(),end='')\n",
        "  print()"
      ]
    },
    {
      "cell_type": "code",
      "execution_count": null,
      "metadata": {
        "colab": {
          "base_uri": "https://localhost:8080/"
        },
        "id": "vIC5tbHowOMr",
        "outputId": "2cf6f5b9-b97e-43b9-a9e1-e3982b007045"
      },
      "outputs": [
        {
          "name": "stdout",
          "output_type": "stream",
          "text": [
            "5\n",
            "ABCDE\n",
            "ABCD\n",
            "ABC\n",
            "AB\n",
            "A\n"
          ]
        }
      ],
      "source": [
        "n=int(input())\n",
        "for i in range(n):\n",
        "  for j in range(n-i):\n",
        "    print(chr(97+j).upper(),end='')\n",
        "  print()"
      ]
    },
    {
      "cell_type": "code",
      "execution_count": null,
      "metadata": {
        "colab": {
          "base_uri": "https://localhost:8080/"
        },
        "id": "K_oIoyVntI24",
        "outputId": "bdd98882-264e-4f06-b527-1d4612011e8c"
      },
      "outputs": [
        {
          "name": "stdout",
          "output_type": "stream",
          "text": [
            "5\n",
            "EDCBA\n",
            "DCBA\n",
            "CBA\n",
            "BA\n",
            "A\n"
          ]
        }
      ],
      "source": [
        "n=int(input())\n",
        "for i in range(n):\n",
        "  for j in range(n-i,0,-1):\n",
        "    print(chr(97+j-1).upper(),end='')\n",
        "  print()"
      ]
    },
    {
      "cell_type": "code",
      "execution_count": null,
      "metadata": {
        "colab": {
          "base_uri": "https://localhost:8080/"
        },
        "id": "W7vmiPYTtI6K",
        "outputId": "877dd4be-6f0b-4a45-e497-2ad2bc1d8c1c"
      },
      "outputs": [
        {
          "name": "stdout",
          "output_type": "stream",
          "text": [
            "5\n",
            "A\n",
            "BB\n",
            "CCC\n",
            "DDDD\n",
            "EEEEE\n"
          ]
        }
      ],
      "source": [
        "n=int(input())\n",
        "for i in range(n):\n",
        "  for j in range(i+1):\n",
        "    print(chr(97+i).upper(),end='')\n",
        "  print()"
      ]
    },
    {
      "cell_type": "code",
      "execution_count": null,
      "metadata": {
        "colab": {
          "base_uri": "https://localhost:8080/"
        },
        "id": "tSf_KosNtJAQ",
        "outputId": "6bd81d5b-962f-4d73-994c-c2a1f64229d4"
      },
      "outputs": [
        {
          "name": "stdout",
          "output_type": "stream",
          "text": [
            "5\n",
            "     A\n",
            "    ABA\n",
            "   ABCBA\n",
            "  ABCDCBA\n",
            " ABCDEDCBA\n"
          ]
        }
      ],
      "source": [
        "n=int(input())\n",
        "for i in range(n):\n",
        "  print((n-i)*(' '),end='')\n",
        "  for j in range(i):\n",
        "    print(chr(97+j).upper(),end='')\n",
        "  for l in range(i,-1,-1):\n",
        "    print(chr(97+l).upper(),end='')\n",
        "\n",
        "  print()"
      ]
    },
    {
      "cell_type": "code",
      "execution_count": null,
      "metadata": {
        "colab": {
          "base_uri": "https://localhost:8080/"
        },
        "id": "VO8xaFwqtJGi",
        "outputId": "3a1abf0b-5e33-4391-dab5-78c7ebb53d74"
      },
      "outputs": [
        {
          "name": "stdout",
          "output_type": "stream",
          "text": [
            "5\n",
            "\n",
            "E\n",
            "DE\n",
            "CDE\n",
            "BCDE\n",
            "ABCDE\n"
          ]
        }
      ],
      "source": [
        "n=int(input())\n",
        "for i in range(n+1):\n",
        "  for j in range(i):\n",
        "    print(chr(97+(n-i)).upper(),end='')\n",
        "    i=i-1\n",
        "  print()"
      ]
    },
    {
      "cell_type": "code",
      "execution_count": null,
      "metadata": {
        "colab": {
          "base_uri": "https://localhost:8080/"
        },
        "id": "sIUriYVtRdd1",
        "outputId": "b0d478fe-7cdf-469d-95bb-28aebdea6655"
      },
      "outputs": [
        {
          "name": "stdout",
          "output_type": "stream",
          "text": [
            "5\n",
            "            \n",
            "*          *\n",
            "**        **\n",
            "***      ***\n",
            "****    ****\n",
            "*****  *****\n"
          ]
        }
      ],
      "source": [
        "n=int(input())\n",
        "for i in range(n+1):\n",
        "  print((i)*('*'),2*(n-i)*(' '),(i)*('*'),end='')\n",
        "  print()"
      ]
    },
    {
      "cell_type": "code",
      "execution_count": null,
      "metadata": {
        "colab": {
          "base_uri": "https://localhost:8080/"
        },
        "id": "YHPTZhrd55u-",
        "outputId": "4bb6b861-48bc-4445-a8f2-ce27d434394a"
      },
      "outputs": [
        {
          "name": "stdout",
          "output_type": "stream",
          "text": [
            "5\n",
            "*        *\n",
            "**      **\n",
            "***    ***\n",
            "****  ****\n",
            "**********\n"
          ]
        }
      ],
      "source": [
        "n=int(input())\n",
        "for i in range(1,n+1):\n",
        "  for j in range(i):\n",
        "    print(\"*\",end='')\n",
        "  for k in range(i):\n",
        "    print(2*(n-i)*(\" \"),end='')\n",
        "    break\n",
        "  for l in range(i):\n",
        "    print(('*'),end='')\n",
        "  print()"
      ]
    },
    {
      "cell_type": "code",
      "execution_count": null,
      "metadata": {
        "colab": {
          "base_uri": "https://localhost:8080/"
        },
        "id": "JALUlz3p554-",
        "outputId": "c1631c2e-251a-4fb1-9d22-01aace9b8903"
      },
      "outputs": [
        {
          "name": "stdout",
          "output_type": "stream",
          "text": [
            "5\n",
            "**********\n",
            "****  ****\n",
            "***    ***\n",
            "**      **\n",
            "*        *\n"
          ]
        }
      ],
      "source": [
        "n=int(input())\n",
        "for i in range(n):\n",
        "  for j in range(n,i,-1):\n",
        "    print('*',end='')\n",
        "  for k in range(i,i+1):\n",
        "    print(2*i*(' '),end='')\n",
        "  for l in range(n,i,-1):\n",
        "    print('*',end='')\n",
        "  print()"
      ]
    },
    {
      "cell_type": "code",
      "execution_count": null,
      "metadata": {
        "colab": {
          "base_uri": "https://localhost:8080/"
        },
        "id": "Am0CzrNxRVml",
        "outputId": "c6a2bb75-36df-48b4-e5aa-1ea4295262b5"
      },
      "outputs": [
        {
          "name": "stdout",
          "output_type": "stream",
          "text": [
            "5\n",
            "*****  *****\n",
            "****    ****\n",
            "***      ***\n",
            "**        **\n",
            "*          *\n"
          ]
        }
      ],
      "source": [
        "n=int(input())\n",
        "for i in range(n):\n",
        "  print((n-i)*('*'),2*i*(' '),(n-i)*('*'),end='')\n",
        "  print()"
      ]
    },
    {
      "cell_type": "code",
      "execution_count": null,
      "metadata": {
        "colab": {
          "base_uri": "https://localhost:8080/"
        },
        "id": "Ki9TP8cD56Au",
        "outputId": "2cee9918-ec18-4ca3-a9bd-26f8269f94a4"
      },
      "outputs": [
        {
          "name": "stdout",
          "output_type": "stream",
          "text": [
            "5\n",
            "*****  *****\n",
            "****    ****\n",
            "***      ***\n",
            "**        **\n",
            "*          *\n",
            "            \n",
            "*          *\n",
            "**        **\n",
            "***      ***\n",
            "****    ****\n",
            "*****  *****\n"
          ]
        }
      ],
      "source": [
        "n=int(input())\n",
        "for i in range(n):\n",
        "  print((n-i)*('*'),2*i*(' '),(n-i)*('*'),end='')\n",
        "  print()\n",
        "for i in range(n+1):\n",
        "  print((i)*('*'),2*(n-i)*(' '),(i)*('*'),end='')\n",
        "  print()\n"
      ]
    },
    {
      "cell_type": "code",
      "execution_count": null,
      "metadata": {
        "colab": {
          "base_uri": "https://localhost:8080/"
        },
        "id": "m8PB87yL56EV",
        "outputId": "7ab4a816-261b-4023-a5c6-ee047c60c594"
      },
      "outputs": [
        {
          "name": "stdout",
          "output_type": "stream",
          "text": [
            "5\n",
            "**********\n",
            "****  ****\n",
            "***    ***\n",
            "**      **\n",
            "*        *\n",
            "          \n",
            "*        *\n",
            "**      **\n",
            "***    ***\n",
            "****  ****\n",
            "**********\n"
          ]
        }
      ],
      "source": [
        "n=int(input())\n",
        "for i in range(n):\n",
        "  for j in range(n-i,0,-1):\n",
        "    print('*',end='')\n",
        "  for k in range(2*i):\n",
        "    print(' ',end='')\n",
        "  for l in range(n-i,0,-1):\n",
        "    print('*',end='')\n",
        "  print()\n",
        "for i in range(n+1):\n",
        "  for j in range(i):\n",
        "    print('*',end='')\n",
        "  for k in range(2*(n-i)):\n",
        "    print(' ',end='')\n",
        "  for l in range(i):\n",
        "    print('*',end='')\n",
        "  print()"
      ]
    },
    {
      "cell_type": "code",
      "execution_count": null,
      "metadata": {
        "colab": {
          "base_uri": "https://localhost:8080/"
        },
        "id": "Ehprjj-B56Lr",
        "outputId": "fc6a30b5-8676-4cd4-8319-0176fbb289de"
      },
      "outputs": [
        {
          "name": "stdout",
          "output_type": "stream",
          "text": [
            "5\n",
            "            \n",
            "*          *\n",
            "**        **\n",
            "***      ***\n",
            "****    ****\n",
            "*****  *****\n",
            "*****  *****\n",
            "****    ****\n",
            "***      ***\n",
            "**        **\n",
            "*          *\n"
          ]
        }
      ],
      "source": [
        "n=int(input())\n",
        "for i in range(n+1):\n",
        "  print((i)*('*'),2*(n-i)*(' '),(i)*('*'),end='')\n",
        "  print()\n",
        "for i in range(n):\n",
        "  print((n-i)*('*'),2*i*(' '),(n-i)*('*'),end='')\n",
        "  print()"
      ]
    },
    {
      "cell_type": "code",
      "execution_count": null,
      "metadata": {
        "colab": {
          "base_uri": "https://localhost:8080/"
        },
        "id": "oF5_-dgX56Pm",
        "outputId": "3d5f64e6-8937-4321-e5db-c1a41113a967"
      },
      "outputs": [
        {
          "name": "stdout",
          "output_type": "stream",
          "text": [
            "5\n",
            "          \n",
            "*        *\n",
            "**      **\n",
            "***    ***\n",
            "****  ****\n",
            "**********\n",
            "****  ****\n",
            "***    ***\n",
            "**      **\n",
            "*        *\n"
          ]
        }
      ],
      "source": [
        "n=int(input())\n",
        "for i in range(n):\n",
        "  for j in range(i):\n",
        "    print('*',end='')\n",
        "  for k in range(2*(n-i)):\n",
        "    print(' ',end='')\n",
        "  for l in range(i):\n",
        "    print('*',end='')\n",
        "  print()\n",
        "for i in range(n):\n",
        "  for j in range(n-i,0,-1):\n",
        "    print('*',end='')\n",
        "  for k in range(2*i):\n",
        "    print(' ',end='')\n",
        "  for l in range(n-i,0,-1):\n",
        "    print('*',end='')\n",
        "  print()\n"
      ]
    },
    {
      "cell_type": "code",
      "execution_count": null,
      "metadata": {
        "colab": {
          "base_uri": "https://localhost:8080/"
        },
        "id": "42sZqz9N56S-",
        "outputId": "5ac626d1-dd25-4727-cdd2-6328e50faf1e"
      },
      "outputs": [
        {
          "name": "stdout",
          "output_type": "stream",
          "text": [
            "4\n",
            "****\n",
            "*  *\n",
            "*  *\n",
            "****\n"
          ]
        }
      ],
      "source": [
        "n=int(input())\n",
        "for i in range(n):\n",
        " for j in range(n):\n",
        "  if (i==0 or i==n-1 or j==0 or j==n-1):\n",
        "    print(\"*\",end='')\n",
        "  else:\n",
        "    print(\" \",end='')\n",
        " print()"
      ]
    }
  ],
  "metadata": {
    "colab": {
      "provenance": []
    },
    "kernelspec": {
      "display_name": "Python 3",
      "name": "python3"
    },
    "language_info": {
      "name": "python"
    }
  },
  "nbformat": 4,
  "nbformat_minor": 0
}